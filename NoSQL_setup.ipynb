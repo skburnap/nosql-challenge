{
 "cells": [
  {
   "cell_type": "markdown",
   "id": "655017ae",
   "metadata": {},
   "source": [
    "## 🛠️ Project Kickoff: Setting Up MongoDB + Jupyter\n",
    "\n",
    "Let’s get this thing going. First, we load our dataset into MongoDB."
   ]
  },
  {
   "cell_type": "code",
   "execution_count": null,
   "id": "f695f33d",
   "metadata": {},
   "outputs": [],
   "source": [
    "# Import necessary libraries\n",
    "from pymongo import MongoClient\n",
    "import pprint"
   ]
  },
  {
   "cell_type": "code",
   "execution_count": null,
   "id": "217d2372",
   "metadata": {},
   "outputs": [],
   "source": [
    "# Create a MongoClient instance\n",
    "client = MongoClient()"
   ]
  },
  {
   "cell_type": "code",
   "execution_count": null,
   "id": "1d012403",
   "metadata": {},
   "outputs": [],
   "source": [
    "# List all databases to confirm uk_food is listed\n",
    "print(client.list_database_names())"
   ]
  },
  {
   "cell_type": "code",
   "execution_count": null,
   "id": "5f4784cf",
   "metadata": {},
   "outputs": [],
   "source": [
    "# Access the uk_food database and list its collections\n",
    "db = client['uk_food']\n",
    "print(db.list_collection_names())"
   ]
  },
  {
   "cell_type": "code",
   "execution_count": null,
   "id": "1b7b5d40",
   "metadata": {},
   "outputs": [],
   "source": [
    "# Access and preview a document from the establishments collection\n",
    "establishments = db['establishments']\n",
    "pprint.pprint(establishments.find_one())"
   ]
  },
  {
   "cell_type": "code",
   "execution_count": null,
   "id": "afd396b6",
   "metadata": {},
   "outputs": [],
   "source": [
    "# Assign the establishments collection to a variable for use\n",
    "establishments = db['establishments']"
   ]
  },
  {
   "cell_type": "markdown",
   "id": "9a57c4c6",
   "metadata": {},
   "source": [
    "# 🧼 Eat Safe, Love – Data Cleaning Edition"
   ]
  },
  {
   "cell_type": "markdown",
   "id": "064ef857",
   "metadata": {},
   "source": [
    "## Notebook Setup\n",
    "This notebook walks through the setup and cleanup of our food inspection dataset—making sure it’s polished before we do any analysis."
   ]
  },
  {
   "cell_type": "code",
   "execution_count": null,
   "id": "3ecdd008",
   "metadata": {},
   "outputs": [],
   "source": [
    "from pymongo import MongoClient\n",
    "import pandas as pd\n",
    "from pprint import pprint"
   ]
  },
  {
   "cell_type": "code",
   "execution_count": null,
   "id": "59390c4a",
   "metadata": {},
   "outputs": [],
   "source": [
    "# Create an instance of MongoClient\n",
    "mongo = MongoClient(port=27017)"
   ]
  },
  {
   "cell_type": "code",
   "execution_count": null,
   "id": "71e373c1",
   "metadata": {},
   "outputs": [],
   "source": [
    "# assign the uk_food database to a variable name\n",
    "db = mongo['uk_food']"
   ]
  },
  {
   "cell_type": "code",
   "execution_count": null,
   "id": "18ab463c",
   "metadata": {},
   "outputs": [],
   "source": [
    "# review the collections in our database\n"
   ]
  },
  {
   "cell_type": "code",
   "execution_count": null,
   "id": "11c9f11b",
   "metadata": {},
   "outputs": [],
   "source": [
    "# assign the collection to a variable\n",
    "establishments = db['establishments']"
   ]
  },
  {
   "cell_type": "markdown",
   "id": "d5671434",
   "metadata": {},
   "source": [
    "## Part 3: Exploratory Analysis Setup\n",
    "Before we dig into specific questions, here’s the general plan:\n",
    "- Use `count_documents` to see how many results we’re working with\n",
    "- Use `pprint` to peek at the first entry\n",
    "- Convert to a DataFrame, check row count, and preview top rows"
   ]
  },
  {
   "cell_type": "markdown",
   "id": "314bd884",
   "metadata": {},
   "source": [
    "### 🔍 Who’s got a hygiene score of 20?"
   ]
  },
  {
   "cell_type": "code",
   "execution_count": null,
   "id": "c2da7648",
   "metadata": {},
   "outputs": [],
   "source": [
    "# Find the establishments with a hygiene score of 20\n",
    "query =\n",
    "\n",
    "# Use count_documents to display the number of documents in the result\n",
    "\n",
    "# Display the first document in the results using pprint\n"
   ]
  },
  {
   "cell_type": "code",
   "execution_count": null,
   "id": "a6e5cece",
   "metadata": {},
   "outputs": [],
   "source": [
    "# Convert the result to a Pandas DataFrame\n",
    "\n",
    "# Display the number of rows in the DataFrame\n",
    "\n",
    "# Display the first 10 rows of the DataFrame\n"
   ]
  },
  {
   "cell_type": "markdown",
   "id": "0ef4395a",
   "metadata": {},
   "source": [
    "### 🏙️ What are London's cleaner spots? (RatingValue >= 4)"
   ]
  },
  {
   "cell_type": "code",
   "execution_count": null,
   "id": "93c63829",
   "metadata": {},
   "outputs": [],
   "source": [
    "# Find the establishments with London in the LocalAuthorityName and has a RatingValue greater than or equal to 4.\n",
    "query =\n",
    "\n",
    "# Use count_documents to display the number of documents in the result\n",
    "\n",
    "# Display the first document in the results using pprint\n"
   ]
  },
  {
   "cell_type": "code",
   "execution_count": null,
   "id": "07e24ccb",
   "metadata": {},
   "outputs": [],
   "source": [
    "# Convert the result to a Pandas DataFrame\n",
    "\n",
    "# Display the number of rows in the DataFrame\n",
    "\n",
    "# Display the first 10 rows of the DataFrame\n"
   ]
  },
  {
   "attachments": {},
   "cell_type": "markdown",
   "id": "4e570caf",
   "metadata": {},
   "source": [
    "### ⭐ Closest, cleanest 5-star joints near Penang Flavours"
   ]
  },
  {
   "cell_type": "code",
   "execution_count": null,
   "id": "7f599f3d",
   "metadata": {},
   "outputs": [],
   "source": [
    "# Search within 0.01 degree on either side of the latitude and longitude.\n",
    "# Rating value must equal 5\n",
    "# Sort by hygiene score\n",
    "\n",
    "degree_search = 0.01\n",
    "latitude =\n",
    "longitude =\n",
    "\n",
    "query =\n",
    "sort =\n",
    "limit =\n",
    "\n",
    "# Print the results\n"
   ]
  },
  {
   "cell_type": "code",
   "execution_count": null,
   "id": "a6ad16f7",
   "metadata": {},
   "outputs": [],
   "source": [
    "# Convert result to Pandas DataFrame\n"
   ]
  },
  {
   "cell_type": "markdown",
   "id": "67281254",
   "metadata": {},
   "source": [
    "### 🧼 How many zero-hygiene places per local authority?"
   ]
  },
  {
   "cell_type": "code",
   "execution_count": null,
   "id": "4eeb227e",
   "metadata": {},
   "outputs": [],
   "source": [
    "# Create a pipeline that:\n",
    "# 1. Matches establishments with a hygiene score of 0\n",
    "# 2. Groups the matches by Local Authority\n",
    "# 3. Sorts the matches from highest to lowest\n",
    "\n",
    "# Print the number of documents in the result\n",
    "\n",
    "# Print the first 10 results\n"
   ]
  },
  {
   "cell_type": "code",
   "execution_count": null,
   "id": "d8aab364",
   "metadata": {},
   "outputs": [],
   "source": [
    "# Convert the result to a Pandas DataFrame\n",
    "\n",
    "# Display the number of rows in the DataFrame\n",
    "\n",
    "# Display the first 10 rows of the DataFrame\n"
   ]
  },
  {
   "cell_type": "markdown",
   "id": "ecbd5d70",
   "metadata": {},
   "source": [
    "## 🧽 Part 2: Data Cleanup – Fix It Before We Flip It"
   ]
  },
  {
   "cell_type": "code",
   "execution_count": null,
   "id": "bae4a0b0",
   "metadata": {},
   "outputs": [],
   "source": [
    "# New restaurant data\n",
    "new_restaurant = {\n",
    "    \"BusinessName\": \"Penang Flavours\",\n",
    "    \"BusinessType\": \"Restaurant/Cafe/Canteen\",\n",
    "    \"BusinessTypeID\": \"\",\n",
    "    \"AddressLine1\": \"Penang Flavours\",\n",
    "    \"AddressLine2\": \"146A Plumstead Rd\",\n",
    "    \"AddressLine3\": \"London\",\n",
    "    \"AddressLine4\": \"\",\n",
    "    \"PostCode\": \"SE18 7DY\",\n",
    "    \"Phone\": \"\",\n",
    "    \"LocalAuthorityCode\": \"511\",\n",
    "    \"LocalAuthorityName\": \"Greenwich\",\n",
    "    \"LocalAuthorityWebSite\": \"http://www.royalgreenwich.gov.uk\",\n",
    "    \"LocalAuthorityEmailAddress\": \"health@royalgreenwich.gov.uk\",\n",
    "    \"scores\": {\n",
    "        \"Hygiene\": \"\",\n",
    "        \"Structural\": \"\",\n",
    "        \"ConfidenceInManagement\": \"\"\n",
    "    },\n",
    "    \"SchemeType\": \"FHRS\",\n",
    "    \"geocode\": {\n",
    "        \"longitude\": \"0.08384000\",\n",
    "        \"latitude\": \"51.49014200\"\n",
    "    },\n",
    "    \"RightToReply\": \"\",\n",
    "    \"Distance\": 4623.9723280747176,\n",
    "    \"NewRatingPending\": True\n",
    "}\n",
    "establishments.insert_one(new_restaurant)"
   ]
  },
  {
   "cell_type": "markdown",
   "id": "cb2a149c",
   "metadata": {},
   "source": [
    "### 🍽️ Step 2: What’s the BusinessTypeID for 'Restaurant/Cafe/Canteen'?"
   ]
  },
  {
   "cell_type": "code",
   "execution_count": null,
   "id": "6f6adad6",
   "metadata": {},
   "outputs": [],
   "source": [
    "pprint.pprint(establishments.find_one(\n",
    "    {\"BusinessType\": \"Restaurant/Cafe/Canteen\"},\n",
    "    {\"BusinessType\": 1, \"BusinessTypeID\": 1, \"_id\": 0}\n",
    "))"
   ]
  },
  {
   "cell_type": "markdown",
   "id": "9665b627",
   "metadata": {},
   "source": [
    "### 🔄 Step 3: Let’s update Penang Flavours with that info"
   ]
  },
  {
   "cell_type": "code",
   "execution_count": null,
   "id": "f632df75",
   "metadata": {},
   "outputs": [],
   "source": [
    "# Replace with actual ID from above after running\n",
    "establishments.update_one(\n",
    "    {\"BusinessName\": \"Penang Flavours\"},\n",
    "    {\"$set\": {\"BusinessTypeID\": \"1\"}}  # <- Replace '1' with actual ID\n",
    ")"
   ]
  },
  {
   "cell_type": "markdown",
   "id": "fe9146cc",
   "metadata": {},
   "source": [
    "### 🗑️ Step 4: Say goodbye to Dover’s establishments"
   ]
  },
  {
   "cell_type": "code",
   "execution_count": null,
   "id": "6d0bb86d",
   "metadata": {},
   "outputs": [],
   "source": [
    "dover_count = establishments.count_documents({\"LocalAuthorityName\": \"Dover\"})\n",
    "print(f\"Establishments in Dover before deletion: {dover_count}\")\n",
    "\n",
    "establishments.delete_many({\"LocalAuthorityName\": \"Dover\"})\n",
    "\n",
    "dover_count_after = establishments.count_documents({\"LocalAuthorityName\": \"Dover\"})\n",
    "print(f\"Establishments in Dover after deletion: {dover_count_after}\")"
   ]
  },
  {
   "cell_type": "markdown",
   "id": "261633cc",
   "metadata": {},
   "source": [
    "### 📍 Step 5: Convert latitude/longitude to usable decimals"
   ]
  },
  {
   "cell_type": "code",
   "execution_count": null,
   "id": "9fe6ca1c",
   "metadata": {},
   "outputs": [],
   "source": [
    "establishments.update_many(\n",
    "    {},\n",
    "    [{\n",
    "        \"$set\": {\n",
    "            \"geocode.latitude\": {\"$toDouble\": \"$geocode.latitude\"},\n",
    "            \"geocode.longitude\": {\"$toDouble\": \"$geocode.longitude\"}\n",
    "        }\n",
    "    }]\n",
    ")"
   ]
  },
  {
   "cell_type": "markdown",
   "id": "180dc34d",
   "metadata": {},
   "source": [
    "### 🔢 Step 6: Convert `RatingValue` to integers"
   ]
  },
  {
   "cell_type": "code",
   "execution_count": null,
   "id": "f15baceb",
   "metadata": {},
   "outputs": [],
   "source": [
    "establishments.update_many(\n",
    "    {},\n",
    "    [{\"$set\": {\"RatingValue\": {\"$toInt\": \"$RatingValue\"}}}]\n",
    ")"
   ]
  }
 ],
 "metadata": {
  "kernelspec": {
   "display_name": "Python 3 (ipykernel)",
   "language": "python",
   "name": "python3"
  },
  "language_info": {
   "codemirror_mode": {
    "name": "ipython",
    "version": 3
   },
   "file_extension": ".py",
   "mimetype": "text/x-python",
   "name": "python",
   "nbconvert_exporter": "python",
   "pygments_lexer": "ipython3",
   "version": "3.10.4"
  }
 },
 "nbformat": 4,
 "nbformat_minor": 5
}
